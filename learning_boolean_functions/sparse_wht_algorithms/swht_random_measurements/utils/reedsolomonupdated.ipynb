{
 "cells": [
  {
   "cell_type": "code",
   "execution_count": 5,
   "metadata": {},
   "outputs": [],
   "source": [
    "import reedsolo as rs"
   ]
  },
  {
   "cell_type": "code",
   "execution_count": 6,
   "metadata": {},
   "outputs": [
    {
     "data": {
      "text/plain": [
       "[bytearray(b'\\x00\\x00\\x01\\x04\\x02\\x08\\x05\\n\\x03\\x0e\\t\\x07\\x06\\r\\x0b\\x0c'),\n",
       " bytearray(b'\\x01\\x02\\x04\\x08\\x03\\x06\\x0c\\x0b\\x05\\n\\x07\\x0e\\x0f\\r\\t\\x01\\x02\\x04\\x08\\x03\\x06\\x0c\\x0b\\x05\\n\\x07\\x0e\\x0f\\r\\t'),\n",
       " 15]"
      ]
     },
     "execution_count": 6,
     "metadata": {},
     "output_type": "execute_result"
    }
   ],
   "source": [
    "prim = rs.find_prime_polys(c_exp=4, fast_primes=True, single=True)\n",
    "rs.init_tables(c_exp=4, prim=prim)"
   ]
  },
  {
   "cell_type": "code",
   "execution_count": 7,
   "metadata": {},
   "outputs": [],
   "source": [
    "n =  5 # length of message\n",
    "k =  3 # length of ecc\n",
    "gen = rs.rs_generator_poly_all(n+k)"
   ]
  },
  {
   "cell_type": "code",
   "execution_count": 9,
   "metadata": {
    "scrolled": true
   },
   "outputs": [
    {
     "name": "stdout",
     "output_type": "stream",
     "text": [
      "bytearray(b'\\x00\\x01\\x02\\x03\\x04')\n",
      "\u0000\u0001\u0002\u0003\u0004\n",
      "bytearray(b'\\x00\\x01\\x02\\x03\\x04\\x0b\\x02\\r')\n",
      "[0, 1, 2, 3, 4, 11, 2, 13]\n"
     ]
    }
   ],
   "source": [
    "msg = bytearray([0, 1,2, 3,4]) \n",
    "print(msg)\n",
    "msg = msg.decode(\"latin-1\") \n",
    "print(msg)\n",
    "mesecc = rs.rs_encode_msg(msg, k, gen=gen[k])\n",
    "print(mesecc)\n",
    "mesecc = list(mesecc)\n",
    "print(mesecc)"
   ]
  },
  {
   "cell_type": "code",
   "execution_count": 10,
   "metadata": {},
   "outputs": [
    {
     "name": "stdout",
     "output_type": "stream",
     "text": [
      "[0, 15, 2, 3, 4, 11, 2, 13]\n"
     ]
    }
   ],
   "source": [
    "mesecc[1]= 15\n",
    "print(mesecc)"
   ]
  },
  {
   "cell_type": "code",
   "execution_count": 18,
   "metadata": {},
   "outputs": [
    {
     "name": "stdout",
     "output_type": "stream",
     "text": [
      "bytearray(b'\\x00\\x01\\x02\\x03\\x04') bytearray(b'\\x0b\\x02\\r') [1]\n"
     ]
    }
   ],
   "source": [
    "mesecc = bytearray(mesecc)\n",
    "rmes, recc, errata_pos = rs.rs_correct_msg(mesecc, k)\n",
    "print(rmes, recc, errata_pos)"
   ]
  },
  {
   "cell_type": "code",
   "execution_count": null,
   "metadata": {},
   "outputs": [],
   "source": []
  }
 ],
 "metadata": {
  "kernelspec": {
   "display_name": "Python 3",
   "language": "python",
   "name": "python3"
  },
  "language_info": {
   "codemirror_mode": {
    "name": "ipython",
    "version": 3
   },
   "file_extension": ".py",
   "mimetype": "text/x-python",
   "name": "python",
   "nbconvert_exporter": "python",
   "pygments_lexer": "ipython3",
   "version": "3.7.6"
  }
 },
 "nbformat": 4,
 "nbformat_minor": 4
}
