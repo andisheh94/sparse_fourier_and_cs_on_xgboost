{
 "cells": [
  {
   "cell_type": "code",
   "execution_count": 1,
   "metadata": {},
   "outputs": [],
   "source": [
    "# Branch constants\n",
    "old_branch = 'low-py'\n",
    "branch = 'compress'"
   ]
  },
  {
   "cell_type": "code",
   "execution_count": 2,
   "metadata": {},
   "outputs": [
    {
     "name": "stdout",
     "output_type": "stream",
     "text": [
      "Total runtime: 3 days, 3:37:01\n",
      "Total runtime: 19:44:22\n"
     ]
    }
   ],
   "source": [
    "# Load files\n",
    "from plotting import load_and_parse\n",
    "load_old_branch = False\n",
    "if load_old_branch:\n",
    "    load_and_parse(old_branch)\n",
    "load_and_parse(branch)"
   ]
  },
  {
   "cell_type": "code",
   "execution_count": 3,
   "metadata": {},
   "outputs": [],
   "source": [
    "# Read files\n",
    "from plotting import fetch_times\n",
    "old_global_times = fetch_times(old_branch)\n",
    "global_times = fetch_times(branch)\n",
    "old_sectioned_times = None\n",
    "sectioned_times = None\n",
    "try:\n",
    "    old_sectioned_times = fetch_times(old_branch, True)\n",
    "except FileNotFoundError:\n",
    "    print(\"No old sectioned runs found.\")\n",
    "try:\n",
    "    sectioned_times = fetch_times(branch, True)\n",
    "except FileNotFoundError:\n",
    "    print(\"No sectioned runs found.\")"
   ]
  },
  {
   "cell_type": "code",
   "execution_count": 4,
   "metadata": {},
   "outputs": [
    {
     "data": {
      "text/plain": [
       "<Figure size 1382.4x758.88 with 0 Axes>"
      ]
     },
     "metadata": {},
     "output_type": "display_data"
    }
   ],
   "source": [
    "# Plot general runtimes\n",
    "from plotting import get_time_plots\n",
    "inter = 'raw'\n",
    "for robu in 'basic', 'robust':\n",
    "    version = (inter, robu)\n",
    "    for k in global_times[version]['K'].unique():\n",
    "        for d in 1, 2, 5, 10:\n",
    "            get_time_plots(\n",
    "                global_times[version], branch,\n",
    "                old_global_times[version], old_branch,\n",
    "                \"runtime\", f\"{version[0]} {version[1]} K={k} d={d}\",\n",
    "                k=k, degree=d\n",
    "            )"
   ]
  },
  {
   "cell_type": "code",
   "execution_count": null,
   "metadata": {},
   "outputs": [],
   "source": [
    "# Plot section runtimes\n",
    "if sectioned_times is not None and old_sectioned_times is not None:\n",
    "    from plotting import get_time_plots\n",
    "    version = ('raw', 'basic')\n",
    "    section = \"time_index\"\n",
    "    complement = False\n",
    "    from pandas import DataFrame\n",
    "    sectioned_times: DataFrame\n",
    "    old_sectioned_times: DataFrame\n",
    "    if complement:\n",
    "        section_times = sectioned_times.groupby(['run', 'algorithm', 'n', 'K', 'degree'], as_index=False).sum()\n",
    "        old_section_times = old_sectioned_times.groupby(['run', 'algorithm', 'n', 'K', 'degree'], as_index=False).sum()\n",
    "    else:\n",
    "        section_times = sectioned_times[version][sectioned_times[version]['section'] == section]\n",
    "        old_section_times = old_sectioned_times[version][old_sectioned_times[version]['section'] == section]\n",
    "    for k in sectioned_times[version]['K'].unique():\n",
    "        for d in 1, 2, 5, 10:\n",
    "            get_time_plots(\n",
    "                section_times, branch,\n",
    "                old_section_times, old_branch,\n",
    "                \"hashing\", f\"{version[0]} {version[1]} K={k} d={d}\",\n",
    "                k=k, degree=d\n",
    "            )"
   ]
  },
  {
   "cell_type": "code",
   "execution_count": 5,
   "metadata": {},
   "outputs": [],
   "source": [
    "# Tabulate speedups\n",
    "from plotting import get_speedup_tables\n",
    "inter = 'raw'\n",
    "for robu in 'basic', 'robust':\n",
    "    version = (inter, robu)\n",
    "    master_global_times = fetch_times(old_branch)\n",
    "    for k in global_times[version]['K'].unique():\n",
    "        for d in 1, 2, 5, 10:\n",
    "            get_speedup_tables(\n",
    "                global_times[version], branch, master_global_times[version],\n",
    "                \"time\", k=k, degree=d, dest=f\"{version[0]}_{version[1]}_K{k}_d{d}\"\n",
    "            )"
   ]
  },
  {
   "cell_type": "code",
   "execution_count": 6,
   "metadata": {},
   "outputs": [
    {
     "name": "stderr",
     "output_type": "stream",
     "text": [
      "Skipping: naive 7502 203 2\n",
      "Skipping: naive 7502 203 10\n"
     ]
    },
    {
     "data": {
      "text/plain": [
       "<Figure size 1382.4x758.88 with 0 Axes>"
      ]
     },
     "metadata": {},
     "output_type": "display_data"
    }
   ],
   "source": [
    "# Plot profiles\n",
    "if sectioned_times is not None:\n",
    "    from plotting import get_profiling, CS_ALGOS\n",
    "    from numpy import partition\n",
    "    inter = 'raw'\n",
    "    minmax = lambda data: (data.min(), partition(data.unique(), -2)[-2])\n",
    "    minmax2 = lambda data: (partition(data.unique(), 1)[1], partition(data.unique(), -2)[-2])\n",
    "    for robu in 'basic', 'robust':\n",
    "        version = (inter, robu)\n",
    "        for cs in CS_ALGOS:\n",
    "            for k in minmax(sectioned_times[version]['K']):\n",
    "                for d in 2, 10:\n",
    "                    for n in minmax2(sectioned_times[version]['n']):\n",
    "                        get_profiling(\n",
    "                            sectioned_times[version], branch,\n",
    "                            f\"{version[0]} {version[1]} {cs} n={n} K={k} d={d}\",\n",
    "                            cs, n, k, d\n",
    "                        )"
   ]
  }
 ],
 "metadata": {
  "interpreter": {
   "hash": "31f2aee4e71d21fbe5cf8b01ff0e069b9275f58929596ceb00d14d90e3e16cd6"
  },
  "kernelspec": {
   "display_name": "Python 3.7.3 64-bit",
   "language": "python",
   "name": "python3"
  },
  "language_info": {
   "codemirror_mode": {
    "name": "ipython",
    "version": 3
   },
   "file_extension": ".py",
   "mimetype": "text/x-python",
   "name": "python",
   "nbconvert_exporter": "python",
   "pygments_lexer": "ipython3",
   "version": "3.7.3"
  },
  "orig_nbformat": 4
 },
 "nbformat": 4,
 "nbformat_minor": 2
}
